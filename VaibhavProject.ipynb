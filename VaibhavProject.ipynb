{
 "cells": [
  {
   "cell_type": "markdown",
   "id": "ffa7cb41",
   "metadata": {},
   "source": [
    "# GITHUB Link\n",
    "\n",
    "https://github.com/vaibhavblr/Class12Project"
   ]
  },
  {
   "cell_type": "markdown",
   "id": "4b565d44",
   "metadata": {},
   "source": [
    "# Objective\n",
    "\n",
    "To analyse New York taxi trip data and generate possible insights. This is known as exploratory data analysis. Brief information about input data is provided as below.\n",
    "\n",
    "VendorID : A code indicating the TPEP provider that provided the record.\n",
    "           1 = Creative Mobile Technologies, LLC.\n",
    "           2 = VeriFone Inc.\n",
    "           \n",
    "tpep_pickup_datetime : The date and time when the meter was engaged.\n",
    "\n",
    "tpep_dropoff_datetime : The date and time when the meter was disengaged.\n",
    "\n",
    "Passenger_count : The number of passengers in the vehicle.\n",
    "                  This is a driver-entered value.\n",
    "                  \n",
    "Trip_distance : The elapsed trip distance in miles reported by the taximeter.\n",
    "\n",
    "PULocationID : TLC Taxi Zone in which the taximeter was engaged.\n",
    "\n",
    "DOLocationID : TLC Taxi Zone in which the taximeter was disengaged.\n",
    "\n",
    "RateCodeID : The final rate code in effect at the end of the trip.\n",
    "             1- Standard rate\n",
    "             2=JFK\n",
    "             3-Newark\n",
    "             4-Nassau or Westchester\n",
    "             S-Negotiated fare\n",
    "             6-Group ride\n",
    "             \n",
    "Store_and_fwd_flag : This flag indicates whether the trip record was held in vehicle memory before sending to the vendor, aka \"store and forward,\" because the vehicle did not have a connection to the server.\n",
    "             Y=store and forward trip\n",
    "             N= not a store and forward trip\n",
    "             \n",
    "Payment_type : A numeric code signifying how the passenger paid for the trip.\n",
    "                1= Credit card\n",
    "                2= Cash\n",
    "                3- No charge\n",
    "                4- Dispute\n",
    "                5- Unknown\n",
    "                6= Voided trip\n",
    "                \n",
    "Fare_amount : The time-and-distance fare calculated by the meter.\n",
    "\n",
    "Extra : Miscellaneous extras and surcharges. Currently, this only includes the $0.50 and $1 rush hour and overnight charges\n",
    "\n",
    "MTA_tax : $0.50 MTA tax that is automatically triggered based on the metered rate in use.\n",
    "\n",
    "Improvement_surcharge : $0.30 improvement surcharge assessed trips at the flag drop. The improvement surcharge began being levied in 2015.\n",
    "\n",
    "Tip_amount : This field is automatically populated for credit card tips. Cash tips are not included.\n",
    "\n",
    "Tolls_amount : Total amount of all tolls paid in trip.\n",
    "\n",
    "Total_amount : The total amount charged to passengers. Does not include cash tips."
   ]
  },
  {
   "cell_type": "code",
   "execution_count": 1,
   "id": "4292080c",
   "metadata": {},
   "outputs": [],
   "source": [
    "import pandas as pd"
   ]
  },
  {
   "cell_type": "markdown",
   "id": "ffb61ab5",
   "metadata": {},
   "source": [
    "# Reading data from input files"
   ]
  },
  {
   "cell_type": "code",
   "execution_count": 2,
   "id": "d98fc887",
   "metadata": {},
   "outputs": [
    {
     "data": {
      "text/html": [
       "<div>\n",
       "<style scoped>\n",
       "    .dataframe tbody tr th:only-of-type {\n",
       "        vertical-align: middle;\n",
       "    }\n",
       "\n",
       "    .dataframe tbody tr th {\n",
       "        vertical-align: top;\n",
       "    }\n",
       "\n",
       "    .dataframe thead th {\n",
       "        text-align: right;\n",
       "    }\n",
       "</style>\n",
       "<table border=\"1\" class=\"dataframe\">\n",
       "  <thead>\n",
       "    <tr style=\"text-align: right;\">\n",
       "      <th></th>\n",
       "      <th>VendorID</th>\n",
       "      <th>tpep_pickup_datetime</th>\n",
       "      <th>tpep_dropoff_datetime</th>\n",
       "      <th>passenger_count</th>\n",
       "      <th>trip_distance</th>\n",
       "      <th>RatecodeID</th>\n",
       "      <th>store_and_fwd_flag</th>\n",
       "      <th>PULocationID</th>\n",
       "      <th>DOLocationID</th>\n",
       "      <th>payment_type</th>\n",
       "      <th>fare_amount</th>\n",
       "      <th>extra</th>\n",
       "      <th>mta_tax</th>\n",
       "      <th>tip_amount</th>\n",
       "      <th>tolls_amount</th>\n",
       "      <th>improvement_surcharge</th>\n",
       "      <th>total_amount</th>\n",
       "      <th>congestion_surcharge</th>\n",
       "    </tr>\n",
       "  </thead>\n",
       "  <tbody>\n",
       "    <tr>\n",
       "      <th>0</th>\n",
       "      <td>2.0</td>\n",
       "      <td>2020-12-01T00:33:40.000Z</td>\n",
       "      <td>2020-12-01T01:00:35.000Z</td>\n",
       "      <td>1.0</td>\n",
       "      <td>16.74</td>\n",
       "      <td>2.0</td>\n",
       "      <td>N</td>\n",
       "      <td>132</td>\n",
       "      <td>164</td>\n",
       "      <td>1.0</td>\n",
       "      <td>52.0</td>\n",
       "      <td>0.0</td>\n",
       "      <td>0.5</td>\n",
       "      <td>2.50</td>\n",
       "      <td>6.12</td>\n",
       "      <td>0.3</td>\n",
       "      <td>63.92</td>\n",
       "      <td>2.5</td>\n",
       "    </tr>\n",
       "    <tr>\n",
       "      <th>1</th>\n",
       "      <td>1.0</td>\n",
       "      <td>2020-12-01T00:08:15.000Z</td>\n",
       "      <td>2020-12-01T00:16:04.000Z</td>\n",
       "      <td>2.0</td>\n",
       "      <td>2.70</td>\n",
       "      <td>1.0</td>\n",
       "      <td>N</td>\n",
       "      <td>237</td>\n",
       "      <td>107</td>\n",
       "      <td>1.0</td>\n",
       "      <td>9.5</td>\n",
       "      <td>3.0</td>\n",
       "      <td>0.5</td>\n",
       "      <td>2.65</td>\n",
       "      <td>0.00</td>\n",
       "      <td>0.3</td>\n",
       "      <td>15.95</td>\n",
       "      <td>2.5</td>\n",
       "    </tr>\n",
       "  </tbody>\n",
       "</table>\n",
       "</div>"
      ],
      "text/plain": [
       "   VendorID      tpep_pickup_datetime     tpep_dropoff_datetime  \\\n",
       "0       2.0  2020-12-01T00:33:40.000Z  2020-12-01T01:00:35.000Z   \n",
       "1       1.0  2020-12-01T00:08:15.000Z  2020-12-01T00:16:04.000Z   \n",
       "\n",
       "   passenger_count  trip_distance  RatecodeID store_and_fwd_flag  \\\n",
       "0              1.0          16.74         2.0                  N   \n",
       "1              2.0           2.70         1.0                  N   \n",
       "\n",
       "   PULocationID  DOLocationID  payment_type  fare_amount  extra  mta_tax  \\\n",
       "0           132           164           1.0         52.0    0.0      0.5   \n",
       "1           237           107           1.0          9.5    3.0      0.5   \n",
       "\n",
       "   tip_amount  tolls_amount  improvement_surcharge  total_amount  \\\n",
       "0        2.50          6.12                    0.3         63.92   \n",
       "1        2.65          0.00                    0.3         15.95   \n",
       "\n",
       "   congestion_surcharge  \n",
       "0                   2.5  \n",
       "1                   2.5  "
      ]
     },
     "execution_count": 2,
     "metadata": {},
     "output_type": "execute_result"
    }
   ],
   "source": [
    "# reading taxi trip data\n",
    "trip_data=pd.read_csv(\n",
    "'https://github.com/vaibhavblr/Class12Project/raw/main/Taxi_Trip_Data.csv'\n",
    ")\n",
    "trip_data.head(2)"
   ]
  },
  {
   "cell_type": "code",
   "execution_count": 3,
   "id": "aa56c90d",
   "metadata": {},
   "outputs": [
    {
     "name": "stdout",
     "output_type": "stream",
     "text": [
      "<class 'pandas.core.frame.DataFrame'>\n",
      "RangeIndex: 145435 entries, 0 to 145434\n",
      "Data columns (total 18 columns):\n",
      " #   Column                 Non-Null Count   Dtype  \n",
      "---  ------                 --------------   -----  \n",
      " 0   VendorID               135636 non-null  float64\n",
      " 1   tpep_pickup_datetime   145435 non-null  object \n",
      " 2   tpep_dropoff_datetime  145435 non-null  object \n",
      " 3   passenger_count        135636 non-null  float64\n",
      " 4   trip_distance          145435 non-null  float64\n",
      " 5   RatecodeID             135636 non-null  float64\n",
      " 6   store_and_fwd_flag     135636 non-null  object \n",
      " 7   PULocationID           145435 non-null  int64  \n",
      " 8   DOLocationID           145435 non-null  int64  \n",
      " 9   payment_type           135636 non-null  float64\n",
      " 10  fare_amount            145435 non-null  float64\n",
      " 11  extra                  145435 non-null  float64\n",
      " 12  mta_tax                145435 non-null  float64\n",
      " 13  tip_amount             145435 non-null  float64\n",
      " 14  tolls_amount           145435 non-null  float64\n",
      " 15  improvement_surcharge  145435 non-null  float64\n",
      " 16  total_amount           145435 non-null  float64\n",
      " 17  congestion_surcharge   145435 non-null  float64\n",
      "dtypes: float64(13), int64(2), object(3)\n",
      "memory usage: 20.0+ MB\n"
     ]
    }
   ],
   "source": [
    "trip_data.info()"
   ]
  },
  {
   "cell_type": "markdown",
   "id": "728980d1",
   "metadata": {},
   "source": [
    "## Inferences-1\n",
    "\n",
    "*  Few columns like 'VendorID', 'passenger_count','RatecodeID', 'store_and_fwd_flag' are having empty fields"
   ]
  },
  {
   "cell_type": "code",
   "execution_count": 4,
   "id": "a684218a",
   "metadata": {},
   "outputs": [
    {
     "data": {
      "text/html": [
       "<div>\n",
       "<style scoped>\n",
       "    .dataframe tbody tr th:only-of-type {\n",
       "        vertical-align: middle;\n",
       "    }\n",
       "\n",
       "    .dataframe tbody tr th {\n",
       "        vertical-align: top;\n",
       "    }\n",
       "\n",
       "    .dataframe thead th {\n",
       "        text-align: right;\n",
       "    }\n",
       "</style>\n",
       "<table border=\"1\" class=\"dataframe\">\n",
       "  <thead>\n",
       "    <tr style=\"text-align: right;\">\n",
       "      <th></th>\n",
       "      <th>LocationID</th>\n",
       "      <th>Borough</th>\n",
       "      <th>Zone</th>\n",
       "      <th>service_zone</th>\n",
       "    </tr>\n",
       "  </thead>\n",
       "  <tbody>\n",
       "    <tr>\n",
       "      <th>0</th>\n",
       "      <td>1</td>\n",
       "      <td>EWR</td>\n",
       "      <td>Newark Airport</td>\n",
       "      <td>EWR</td>\n",
       "    </tr>\n",
       "    <tr>\n",
       "      <th>1</th>\n",
       "      <td>2</td>\n",
       "      <td>Queens</td>\n",
       "      <td>Jamaica Bay</td>\n",
       "      <td>Boro Zone</td>\n",
       "    </tr>\n",
       "  </tbody>\n",
       "</table>\n",
       "</div>"
      ],
      "text/plain": [
       "   LocationID Borough            Zone service_zone\n",
       "0           1     EWR  Newark Airport          EWR\n",
       "1           2  Queens     Jamaica Bay    Boro Zone"
      ]
     },
     "execution_count": 4,
     "metadata": {},
     "output_type": "execute_result"
    }
   ],
   "source": [
    "# reading taxi zone data\n",
    "taxi_zone_data=pd.read_csv(\n",
    "'https://github.com/vaibhavblr/Class12Project/raw/main/taxi_zone_lookup.csv'\n",
    ")\n",
    "taxi_zone_data.head(2)"
   ]
  },
  {
   "cell_type": "code",
   "execution_count": 5,
   "id": "ae48cd82",
   "metadata": {},
   "outputs": [
    {
     "data": {
      "text/html": [
       "<div>\n",
       "<style scoped>\n",
       "    .dataframe tbody tr th:only-of-type {\n",
       "        vertical-align: middle;\n",
       "    }\n",
       "\n",
       "    .dataframe tbody tr th {\n",
       "        vertical-align: top;\n",
       "    }\n",
       "\n",
       "    .dataframe thead th {\n",
       "        text-align: right;\n",
       "    }\n",
       "</style>\n",
       "<table border=\"1\" class=\"dataframe\">\n",
       "  <thead>\n",
       "    <tr style=\"text-align: right;\">\n",
       "      <th></th>\n",
       "      <th>LocationID</th>\n",
       "      <th>Borough</th>\n",
       "      <th>Zone</th>\n",
       "      <th>service_zone</th>\n",
       "    </tr>\n",
       "  </thead>\n",
       "  <tbody>\n",
       "    <tr>\n",
       "      <th>count</th>\n",
       "      <td>265.000000</td>\n",
       "      <td>265</td>\n",
       "      <td>264</td>\n",
       "      <td>263</td>\n",
       "    </tr>\n",
       "    <tr>\n",
       "      <th>unique</th>\n",
       "      <td>NaN</td>\n",
       "      <td>7</td>\n",
       "      <td>261</td>\n",
       "      <td>4</td>\n",
       "    </tr>\n",
       "    <tr>\n",
       "      <th>top</th>\n",
       "      <td>NaN</td>\n",
       "      <td>Queens</td>\n",
       "      <td>Governor's Island/Ellis Island/Liberty Island</td>\n",
       "      <td>Boro Zone</td>\n",
       "    </tr>\n",
       "    <tr>\n",
       "      <th>freq</th>\n",
       "      <td>NaN</td>\n",
       "      <td>69</td>\n",
       "      <td>3</td>\n",
       "      <td>205</td>\n",
       "    </tr>\n",
       "    <tr>\n",
       "      <th>mean</th>\n",
       "      <td>133.000000</td>\n",
       "      <td>NaN</td>\n",
       "      <td>NaN</td>\n",
       "      <td>NaN</td>\n",
       "    </tr>\n",
       "    <tr>\n",
       "      <th>std</th>\n",
       "      <td>76.643112</td>\n",
       "      <td>NaN</td>\n",
       "      <td>NaN</td>\n",
       "      <td>NaN</td>\n",
       "    </tr>\n",
       "    <tr>\n",
       "      <th>min</th>\n",
       "      <td>1.000000</td>\n",
       "      <td>NaN</td>\n",
       "      <td>NaN</td>\n",
       "      <td>NaN</td>\n",
       "    </tr>\n",
       "    <tr>\n",
       "      <th>25%</th>\n",
       "      <td>67.000000</td>\n",
       "      <td>NaN</td>\n",
       "      <td>NaN</td>\n",
       "      <td>NaN</td>\n",
       "    </tr>\n",
       "    <tr>\n",
       "      <th>50%</th>\n",
       "      <td>133.000000</td>\n",
       "      <td>NaN</td>\n",
       "      <td>NaN</td>\n",
       "      <td>NaN</td>\n",
       "    </tr>\n",
       "    <tr>\n",
       "      <th>75%</th>\n",
       "      <td>199.000000</td>\n",
       "      <td>NaN</td>\n",
       "      <td>NaN</td>\n",
       "      <td>NaN</td>\n",
       "    </tr>\n",
       "    <tr>\n",
       "      <th>max</th>\n",
       "      <td>265.000000</td>\n",
       "      <td>NaN</td>\n",
       "      <td>NaN</td>\n",
       "      <td>NaN</td>\n",
       "    </tr>\n",
       "  </tbody>\n",
       "</table>\n",
       "</div>"
      ],
      "text/plain": [
       "        LocationID Borough                                           Zone  \\\n",
       "count   265.000000     265                                            264   \n",
       "unique         NaN       7                                            261   \n",
       "top            NaN  Queens  Governor's Island/Ellis Island/Liberty Island   \n",
       "freq           NaN      69                                              3   \n",
       "mean    133.000000     NaN                                            NaN   \n",
       "std      76.643112     NaN                                            NaN   \n",
       "min       1.000000     NaN                                            NaN   \n",
       "25%      67.000000     NaN                                            NaN   \n",
       "50%     133.000000     NaN                                            NaN   \n",
       "75%     199.000000     NaN                                            NaN   \n",
       "max     265.000000     NaN                                            NaN   \n",
       "\n",
       "       service_zone  \n",
       "count           263  \n",
       "unique            4  \n",
       "top       Boro Zone  \n",
       "freq            205  \n",
       "mean            NaN  \n",
       "std             NaN  \n",
       "min             NaN  \n",
       "25%             NaN  \n",
       "50%             NaN  \n",
       "75%             NaN  \n",
       "max             NaN  "
      ]
     },
     "execution_count": 5,
     "metadata": {},
     "output_type": "execute_result"
    }
   ],
   "source": [
    "taxi_zone_data.describe(include='all')"
   ]
  },
  {
   "cell_type": "markdown",
   "id": "f75b4a6a",
   "metadata": {},
   "source": [
    "## Inferences-2\n",
    "\n",
    "* There are 265 'LocationIDs', but 264 corresponding 'Zones'. It implies, for one 'LocationID', there is no 'Zone' details available\n",
    "* 261 unique zones are there. Expected number is : 264. \n",
    "* 3 number of 'LocationIDs' are having duplicate 'Zones'"
   ]
  },
  {
   "cell_type": "code",
   "execution_count": 6,
   "id": "c94ee5fb",
   "metadata": {},
   "outputs": [],
   "source": [
    "# Converting pickup and drop time to 'DateTime' object\n",
    "trip_data['tpep_pickup_datetime'] = \\\n",
    "pd.to_datetime(trip_data['tpep_pickup_datetime'],format='%Y-%m-%dT%H:%M:%S.000Z')\n",
    "\n",
    "trip_data['tpep_dropoff_datetime'] = \\\n",
    "pd.to_datetime(trip_data['tpep_dropoff_datetime'],format='%Y-%m-%dT%H:%M:%S.000Z')"
   ]
  },
  {
   "cell_type": "code",
   "execution_count": 7,
   "id": "428038bb",
   "metadata": {},
   "outputs": [
    {
     "data": {
      "text/html": [
       "<div>\n",
       "<style scoped>\n",
       "    .dataframe tbody tr th:only-of-type {\n",
       "        vertical-align: middle;\n",
       "    }\n",
       "\n",
       "    .dataframe tbody tr th {\n",
       "        vertical-align: top;\n",
       "    }\n",
       "\n",
       "    .dataframe thead th {\n",
       "        text-align: right;\n",
       "    }\n",
       "</style>\n",
       "<table border=\"1\" class=\"dataframe\">\n",
       "  <thead>\n",
       "    <tr style=\"text-align: right;\">\n",
       "      <th></th>\n",
       "      <th>VendorID</th>\n",
       "      <th>pickup_time</th>\n",
       "      <th>drop_time</th>\n",
       "      <th>passenger_count</th>\n",
       "      <th>trip_distance</th>\n",
       "      <th>RatecodeID</th>\n",
       "      <th>store_and_fwd_flag</th>\n",
       "      <th>PULocationID</th>\n",
       "      <th>DOLocationID</th>\n",
       "      <th>payment_type</th>\n",
       "      <th>fare_amount</th>\n",
       "      <th>extra</th>\n",
       "      <th>mta_tax</th>\n",
       "      <th>tip_amount</th>\n",
       "      <th>tolls_amount</th>\n",
       "      <th>improvement_surcharge</th>\n",
       "      <th>total_amount</th>\n",
       "      <th>congestion_surcharge</th>\n",
       "    </tr>\n",
       "  </thead>\n",
       "  <tbody>\n",
       "    <tr>\n",
       "      <th>0</th>\n",
       "      <td>2.0</td>\n",
       "      <td>2020-12-01 00:33:40</td>\n",
       "      <td>2020-12-01 01:00:35</td>\n",
       "      <td>1.0</td>\n",
       "      <td>16.74</td>\n",
       "      <td>2.0</td>\n",
       "      <td>N</td>\n",
       "      <td>132</td>\n",
       "      <td>164</td>\n",
       "      <td>1.0</td>\n",
       "      <td>52.0</td>\n",
       "      <td>0.0</td>\n",
       "      <td>0.5</td>\n",
       "      <td>2.50</td>\n",
       "      <td>6.12</td>\n",
       "      <td>0.3</td>\n",
       "      <td>63.92</td>\n",
       "      <td>2.5</td>\n",
       "    </tr>\n",
       "    <tr>\n",
       "      <th>1</th>\n",
       "      <td>1.0</td>\n",
       "      <td>2020-12-01 00:08:15</td>\n",
       "      <td>2020-12-01 00:16:04</td>\n",
       "      <td>2.0</td>\n",
       "      <td>2.70</td>\n",
       "      <td>1.0</td>\n",
       "      <td>N</td>\n",
       "      <td>237</td>\n",
       "      <td>107</td>\n",
       "      <td>1.0</td>\n",
       "      <td>9.5</td>\n",
       "      <td>3.0</td>\n",
       "      <td>0.5</td>\n",
       "      <td>2.65</td>\n",
       "      <td>0.00</td>\n",
       "      <td>0.3</td>\n",
       "      <td>15.95</td>\n",
       "      <td>2.5</td>\n",
       "    </tr>\n",
       "  </tbody>\n",
       "</table>\n",
       "</div>"
      ],
      "text/plain": [
       "   VendorID         pickup_time           drop_time  passenger_count  \\\n",
       "0       2.0 2020-12-01 00:33:40 2020-12-01 01:00:35              1.0   \n",
       "1       1.0 2020-12-01 00:08:15 2020-12-01 00:16:04              2.0   \n",
       "\n",
       "   trip_distance  RatecodeID store_and_fwd_flag  PULocationID  DOLocationID  \\\n",
       "0          16.74         2.0                  N           132           164   \n",
       "1           2.70         1.0                  N           237           107   \n",
       "\n",
       "   payment_type  fare_amount  extra  mta_tax  tip_amount  tolls_amount  \\\n",
       "0           1.0         52.0    0.0      0.5        2.50          6.12   \n",
       "1           1.0          9.5    3.0      0.5        2.65          0.00   \n",
       "\n",
       "   improvement_surcharge  total_amount  congestion_surcharge  \n",
       "0                    0.3         63.92                   2.5  \n",
       "1                    0.3         15.95                   2.5  "
      ]
     },
     "execution_count": 7,
     "metadata": {},
     "output_type": "execute_result"
    }
   ],
   "source": [
    "# drop old formatted pickup and drop time\n",
    "trip_data.rename(columns={'tpep_pickup_datetime': 'pickup_time'}, inplace=True)\n",
    "trip_data.rename(columns={'tpep_dropoff_datetime': 'drop_time'}, inplace=True)\n",
    "trip_data.head(2)"
   ]
  },
  {
   "cell_type": "code",
   "execution_count": 8,
   "id": "8e0b5091",
   "metadata": {},
   "outputs": [],
   "source": [
    "# replace PULocationID with corresponding zone name..join with other dataframe\n",
    "trip_data.rename(columns={'PULocationID': 'LocationID'}, inplace=True)\n",
    "trip_merge1 = pd.merge(trip_data, taxi_zone_data[['Zone','LocationID']],\n",
    "                       on=['LocationID'])\n",
    "trip_merge1.rename(columns={'Zone': 'Pickup_Zone'}, inplace=True)\n",
    "trip_merge1.drop(['LocationID'], axis=1, inplace=True)"
   ]
  },
  {
   "cell_type": "code",
   "execution_count": 9,
   "id": "ee7c133b",
   "metadata": {},
   "outputs": [],
   "source": [
    "# replace DOLocationID with corresponding zone name..join with other dataframe\n",
    "trip_merge1.rename(columns={'DOLocationID': 'LocationID'}, inplace=True)\n",
    "trip_merge2 = pd.merge(trip_merge1, taxi_zone_data[['Zone','LocationID']], \n",
    "                       on=['LocationID'])\n",
    "trip_merge2.rename(columns={'Zone': 'Drop_Zone'}, inplace=True)\n",
    "trip_merge2.drop(['LocationID'], axis=1, inplace=True)"
   ]
  },
  {
   "cell_type": "code",
   "execution_count": 10,
   "id": "12810b5d",
   "metadata": {},
   "outputs": [
    {
     "data": {
      "text/html": [
       "<div>\n",
       "<style scoped>\n",
       "    .dataframe tbody tr th:only-of-type {\n",
       "        vertical-align: middle;\n",
       "    }\n",
       "\n",
       "    .dataframe tbody tr th {\n",
       "        vertical-align: top;\n",
       "    }\n",
       "\n",
       "    .dataframe thead th {\n",
       "        text-align: right;\n",
       "    }\n",
       "</style>\n",
       "<table border=\"1\" class=\"dataframe\">\n",
       "  <thead>\n",
       "    <tr style=\"text-align: right;\">\n",
       "      <th></th>\n",
       "      <th>VendorID</th>\n",
       "      <th>pickup_time</th>\n",
       "      <th>drop_time</th>\n",
       "      <th>passenger_count</th>\n",
       "      <th>trip_distance</th>\n",
       "      <th>RatecodeID</th>\n",
       "      <th>store_and_fwd_flag</th>\n",
       "      <th>payment_type</th>\n",
       "      <th>fare_amount</th>\n",
       "      <th>extra</th>\n",
       "      <th>mta_tax</th>\n",
       "      <th>tip_amount</th>\n",
       "      <th>tolls_amount</th>\n",
       "      <th>improvement_surcharge</th>\n",
       "      <th>total_amount</th>\n",
       "      <th>congestion_surcharge</th>\n",
       "      <th>Pickup_Zone</th>\n",
       "      <th>Drop_Zone</th>\n",
       "      <th>trip_duration(min)</th>\n",
       "    </tr>\n",
       "  </thead>\n",
       "  <tbody>\n",
       "    <tr>\n",
       "      <th>0</th>\n",
       "      <td>2.0</td>\n",
       "      <td>2020-12-01 00:33:40</td>\n",
       "      <td>2020-12-01 01:00:35</td>\n",
       "      <td>1.0</td>\n",
       "      <td>16.74</td>\n",
       "      <td>2.0</td>\n",
       "      <td>N</td>\n",
       "      <td>1.0</td>\n",
       "      <td>52.0</td>\n",
       "      <td>0.0</td>\n",
       "      <td>0.5</td>\n",
       "      <td>2.5</td>\n",
       "      <td>6.12</td>\n",
       "      <td>0.3</td>\n",
       "      <td>63.92</td>\n",
       "      <td>2.5</td>\n",
       "      <td>JFK Airport</td>\n",
       "      <td>Midtown South</td>\n",
       "      <td>26.92</td>\n",
       "    </tr>\n",
       "    <tr>\n",
       "      <th>1</th>\n",
       "      <td>2.0</td>\n",
       "      <td>2020-12-01 11:46:04</td>\n",
       "      <td>2020-12-01 12:18:41</td>\n",
       "      <td>1.0</td>\n",
       "      <td>17.25</td>\n",
       "      <td>2.0</td>\n",
       "      <td>N</td>\n",
       "      <td>1.0</td>\n",
       "      <td>52.0</td>\n",
       "      <td>0.0</td>\n",
       "      <td>0.5</td>\n",
       "      <td>10.0</td>\n",
       "      <td>6.12</td>\n",
       "      <td>0.3</td>\n",
       "      <td>71.42</td>\n",
       "      <td>2.5</td>\n",
       "      <td>JFK Airport</td>\n",
       "      <td>Midtown South</td>\n",
       "      <td>32.62</td>\n",
       "    </tr>\n",
       "  </tbody>\n",
       "</table>\n",
       "</div>"
      ],
      "text/plain": [
       "   VendorID         pickup_time           drop_time  passenger_count  \\\n",
       "0       2.0 2020-12-01 00:33:40 2020-12-01 01:00:35              1.0   \n",
       "1       2.0 2020-12-01 11:46:04 2020-12-01 12:18:41              1.0   \n",
       "\n",
       "   trip_distance  RatecodeID store_and_fwd_flag  payment_type  fare_amount  \\\n",
       "0          16.74         2.0                  N           1.0         52.0   \n",
       "1          17.25         2.0                  N           1.0         52.0   \n",
       "\n",
       "   extra  mta_tax  tip_amount  tolls_amount  improvement_surcharge  \\\n",
       "0    0.0      0.5         2.5          6.12                    0.3   \n",
       "1    0.0      0.5        10.0          6.12                    0.3   \n",
       "\n",
       "   total_amount  congestion_surcharge  Pickup_Zone      Drop_Zone  \\\n",
       "0         63.92                   2.5  JFK Airport  Midtown South   \n",
       "1         71.42                   2.5  JFK Airport  Midtown South   \n",
       "\n",
       "   trip_duration(min)  \n",
       "0               26.92  \n",
       "1               32.62  "
      ]
     },
     "execution_count": 10,
     "metadata": {},
     "output_type": "execute_result"
    }
   ],
   "source": [
    "trip_merge2['trip_duration(min)'] = \\\n",
    "   ((trip_merge2['drop_time'] - trip_merge2['pickup_time'])\\\n",
    "   / pd.Timedelta(minutes=1)).round(2)\n",
    "trip_merge2.head(2)"
   ]
  },
  {
   "cell_type": "markdown",
   "id": "7eba2704",
   "metadata": {},
   "source": [
    "# Data Cleaning"
   ]
  },
  {
   "cell_type": "code",
   "execution_count": 11,
   "id": "f0d7d97e",
   "metadata": {},
   "outputs": [
    {
     "data": {
      "text/html": [
       "<div>\n",
       "<style scoped>\n",
       "    .dataframe tbody tr th:only-of-type {\n",
       "        vertical-align: middle;\n",
       "    }\n",
       "\n",
       "    .dataframe tbody tr th {\n",
       "        vertical-align: top;\n",
       "    }\n",
       "\n",
       "    .dataframe thead th {\n",
       "        text-align: right;\n",
       "    }\n",
       "</style>\n",
       "<table border=\"1\" class=\"dataframe\">\n",
       "  <thead>\n",
       "    <tr style=\"text-align: right;\">\n",
       "      <th></th>\n",
       "      <th>VendorID(null) count</th>\n",
       "      <th>passenger_count(null)</th>\n",
       "      <th>RatecodeID(null) count</th>\n",
       "      <th>store_and_fwd_flag(null) count</th>\n",
       "      <th>payment_type(null) count</th>\n",
       "    </tr>\n",
       "  </thead>\n",
       "  <tbody>\n",
       "    <tr>\n",
       "      <th>0</th>\n",
       "      <td>9799</td>\n",
       "      <td>9799</td>\n",
       "      <td>9799</td>\n",
       "      <td>9799</td>\n",
       "      <td>9799</td>\n",
       "    </tr>\n",
       "  </tbody>\n",
       "</table>\n",
       "</div>"
      ],
      "text/plain": [
       "   VendorID(null) count  passenger_count(null)  RatecodeID(null) count  \\\n",
       "0                  9799                   9799                    9799   \n",
       "\n",
       "   store_and_fwd_flag(null) count  payment_type(null) count  \n",
       "0                            9799                      9799  "
      ]
     },
     "execution_count": 11,
     "metadata": {},
     "output_type": "execute_result"
    }
   ],
   "source": [
    "# Finding number of records for columns which has null values\n",
    "null_rec_cnt = {'VendorID(null) count': [trip_merge2['VendorID'].\\\n",
    "                                         isnull().sum()],\n",
    "                \n",
    "                'passenger_count(null)': [trip_merge2['passenger_count'].\\\n",
    "                                          isnull().sum()],\n",
    "                \n",
    "                'RatecodeID(null) count': [trip_merge2['RatecodeID'].\\\n",
    "                                           isnull().sum()],\n",
    "                \n",
    "                'store_and_fwd_flag(null) count': \\\n",
    "                    [trip_merge2['store_and_fwd_flag'].isnull().sum()],\n",
    "                \n",
    "                'payment_type(null) count': [trip_merge2['payment_type'].\\\n",
    "                                             isnull().sum()]}\n",
    "df = pd.DataFrame(null_rec_cnt)\n",
    "df"
   ]
  },
  {
   "cell_type": "code",
   "execution_count": 12,
   "id": "af6623f5",
   "metadata": {},
   "outputs": [
    {
     "data": {
      "text/plain": [
       "N      133639\n",
       "NaN      9799\n",
       "Y        1997\n",
       "Name: store_and_fwd_flag, dtype: int64"
      ]
     },
     "execution_count": 12,
     "metadata": {},
     "output_type": "execute_result"
    }
   ],
   "source": [
    "trip_merge2.store_and_fwd_flag.value_counts(dropna=False)"
   ]
  },
  {
   "cell_type": "markdown",
   "id": "06dace70",
   "metadata": {},
   "source": [
    "## Inferences-3\n",
    "\n",
    "*  9799 records have no value for columns 'VendorID', 'passenger_count','RatecodeID', 'store_and_fwd_flag' and 'payment_type'\n",
    "*  Looks like whenever records are stored in device and later pushed to server (store_and_fwd_flag=Y), possibly few columns are not getting updated"
   ]
  },
  {
   "cell_type": "code",
   "execution_count": 13,
   "id": "653e69c4",
   "metadata": {},
   "outputs": [
    {
     "data": {
      "text/html": [
       "<div>\n",
       "<style scoped>\n",
       "    .dataframe tbody tr th:only-of-type {\n",
       "        vertical-align: middle;\n",
       "    }\n",
       "\n",
       "    .dataframe tbody tr th {\n",
       "        vertical-align: top;\n",
       "    }\n",
       "\n",
       "    .dataframe thead th {\n",
       "        text-align: right;\n",
       "    }\n",
       "</style>\n",
       "<table border=\"1\" class=\"dataframe\">\n",
       "  <thead>\n",
       "    <tr style=\"text-align: right;\">\n",
       "      <th></th>\n",
       "      <th>VendorID</th>\n",
       "      <th>pickup_time</th>\n",
       "      <th>drop_time</th>\n",
       "      <th>passenger_count</th>\n",
       "      <th>trip_distance</th>\n",
       "      <th>RatecodeID</th>\n",
       "      <th>store_and_fwd_flag</th>\n",
       "      <th>payment_type</th>\n",
       "      <th>fare_amount</th>\n",
       "      <th>extra</th>\n",
       "      <th>mta_tax</th>\n",
       "      <th>tip_amount</th>\n",
       "      <th>tolls_amount</th>\n",
       "      <th>improvement_surcharge</th>\n",
       "      <th>total_amount</th>\n",
       "      <th>congestion_surcharge</th>\n",
       "      <th>Pickup_Zone</th>\n",
       "      <th>Drop_Zone</th>\n",
       "      <th>trip_duration(min)</th>\n",
       "    </tr>\n",
       "  </thead>\n",
       "  <tbody>\n",
       "    <tr>\n",
       "      <th>0</th>\n",
       "      <td>2.0</td>\n",
       "      <td>2020-12-01 00:33:40</td>\n",
       "      <td>2020-12-01 01:00:35</td>\n",
       "      <td>1.0</td>\n",
       "      <td>16.74</td>\n",
       "      <td>2.0</td>\n",
       "      <td>N</td>\n",
       "      <td>1.0</td>\n",
       "      <td>52.0</td>\n",
       "      <td>0.0</td>\n",
       "      <td>0.5</td>\n",
       "      <td>2.5</td>\n",
       "      <td>6.12</td>\n",
       "      <td>0.3</td>\n",
       "      <td>63.92</td>\n",
       "      <td>2.5</td>\n",
       "      <td>JFK Airport</td>\n",
       "      <td>Midtown South</td>\n",
       "      <td>26.92</td>\n",
       "    </tr>\n",
       "    <tr>\n",
       "      <th>1</th>\n",
       "      <td>2.0</td>\n",
       "      <td>2020-12-01 11:46:04</td>\n",
       "      <td>2020-12-01 12:18:41</td>\n",
       "      <td>1.0</td>\n",
       "      <td>17.25</td>\n",
       "      <td>2.0</td>\n",
       "      <td>N</td>\n",
       "      <td>1.0</td>\n",
       "      <td>52.0</td>\n",
       "      <td>0.0</td>\n",
       "      <td>0.5</td>\n",
       "      <td>10.0</td>\n",
       "      <td>6.12</td>\n",
       "      <td>0.3</td>\n",
       "      <td>71.42</td>\n",
       "      <td>2.5</td>\n",
       "      <td>JFK Airport</td>\n",
       "      <td>Midtown South</td>\n",
       "      <td>32.62</td>\n",
       "    </tr>\n",
       "  </tbody>\n",
       "</table>\n",
       "</div>"
      ],
      "text/plain": [
       "   VendorID         pickup_time           drop_time  passenger_count  \\\n",
       "0       2.0 2020-12-01 00:33:40 2020-12-01 01:00:35              1.0   \n",
       "1       2.0 2020-12-01 11:46:04 2020-12-01 12:18:41              1.0   \n",
       "\n",
       "   trip_distance  RatecodeID store_and_fwd_flag  payment_type  fare_amount  \\\n",
       "0          16.74         2.0                  N           1.0         52.0   \n",
       "1          17.25         2.0                  N           1.0         52.0   \n",
       "\n",
       "   extra  mta_tax  tip_amount  tolls_amount  improvement_surcharge  \\\n",
       "0    0.0      0.5         2.5          6.12                    0.3   \n",
       "1    0.0      0.5        10.0          6.12                    0.3   \n",
       "\n",
       "   total_amount  congestion_surcharge  Pickup_Zone      Drop_Zone  \\\n",
       "0         63.92                   2.5  JFK Airport  Midtown South   \n",
       "1         71.42                   2.5  JFK Airport  Midtown South   \n",
       "\n",
       "   trip_duration(min)  \n",
       "0               26.92  \n",
       "1               32.62  "
      ]
     },
     "execution_count": 13,
     "metadata": {},
     "output_type": "execute_result"
    }
   ],
   "source": [
    "# filter out records based on following conditions\n",
    "# trip_distance > 0\n",
    "# total_amount > 0\n",
    "# drop time > pickup time\n",
    "# passenger_count > 0\n",
    "# store_and_fwd_flag is not null\n",
    "\n",
    "filter_trip_data = trip_merge2[(trip_merge2['trip_distance'] > 0) &\n",
    "                               \n",
    "                               (trip_merge2['total_amount'] > 0 ) &\n",
    "                               \n",
    "                               (trip_merge2['drop_time'] > \\\n",
    "                                        trip_merge2['pickup_time']) &\n",
    "                               \n",
    "                               (trip_merge2['passenger_count'] > 0) &\n",
    "                               \n",
    "                               (trip_merge2['store_and_fwd_flag'].\\\n",
    "                                        isnull() == False)]\n",
    "filter_trip_data.head(2)"
   ]
  },
  {
   "cell_type": "code",
   "execution_count": 14,
   "id": "503ae707",
   "metadata": {},
   "outputs": [
    {
     "name": "stderr",
     "output_type": "stream",
     "text": [
      "C:\\Users\\hp ssd\\AppData\\Local\\Temp\\ipykernel_3700\\4279131569.py:2: SettingWithCopyWarning: \n",
      "A value is trying to be set on a copy of a slice from a DataFrame.\n",
      "Try using .loc[row_indexer,col_indexer] = value instead\n",
      "\n",
      "See the caveats in the documentation: https://pandas.pydata.org/pandas-docs/stable/user_guide/indexing.html#returning-a-view-versus-a-copy\n",
      "  filter_trip_data[['VendorID', 'passenger_count', 'RatecodeID','payment_type']] = \\\n"
     ]
    }
   ],
   "source": [
    "# typecast few columns to integer type\n",
    "filter_trip_data[['VendorID', 'passenger_count', 'RatecodeID','payment_type']] = \\\n",
    "         filter_trip_data[['VendorID','passenger_count', 'RatecodeID',\n",
    "                           'payment_type']].astype('int64')"
   ]
  },
  {
   "cell_type": "markdown",
   "id": "2f2ec4ae",
   "metadata": {},
   "source": [
    "# Data Augmentation"
   ]
  },
  {
   "cell_type": "code",
   "execution_count": 15,
   "id": "d3617e47",
   "metadata": {},
   "outputs": [
    {
     "name": "stderr",
     "output_type": "stream",
     "text": [
      "C:\\Users\\hp ssd\\AppData\\Local\\Temp\\ipykernel_3700\\636654993.py:2: SettingWithCopyWarning: \n",
      "A value is trying to be set on a copy of a slice from a DataFrame.\n",
      "Try using .loc[row_indexer,col_indexer] = value instead\n",
      "\n",
      "See the caveats in the documentation: https://pandas.pydata.org/pandas-docs/stable/user_guide/indexing.html#returning-a-view-versus-a-copy\n",
      "  filter_trip_data['Pickup_Day_Week'] = filter_trip_data['pickup_time'].\\\n"
     ]
    }
   ],
   "source": [
    "# Adding day of week columns from timestamp\n",
    "filter_trip_data['Pickup_Day_Week'] = filter_trip_data['pickup_time'].\\\n",
    "                                                        dt.day_name()"
   ]
  },
  {
   "cell_type": "code",
   "execution_count": 16,
   "id": "47c16110",
   "metadata": {},
   "outputs": [
    {
     "name": "stderr",
     "output_type": "stream",
     "text": [
      "C:\\Users\\hp ssd\\AppData\\Local\\Temp\\ipykernel_3700\\873404404.py:13: SettingWithCopyWarning: \n",
      "A value is trying to be set on a copy of a slice from a DataFrame.\n",
      "Try using .loc[row_indexer,col_indexer] = value instead\n",
      "\n",
      "See the caveats in the documentation: https://pandas.pydata.org/pandas-docs/stable/user_guide/indexing.html#returning-a-view-versus-a-copy\n",
      "  filter_trip_data['Hour_of_Day'] =\\\n"
     ]
    }
   ],
   "source": [
    "def  convert_time_2_hrday(entry):\n",
    "    if (entry.hour > 4) & (entry.hour <= 10):\n",
    "        return 'Morning(4am-10am)'\n",
    "    elif (entry.hour > 10) & (entry.hour <= 16):\n",
    "        return 'Midday(10am-4pm)'\n",
    "    elif (entry.hour > 16) & (entry.hour <= 22):\n",
    "        return 'Evening(4pm-10pm)'\n",
    "    elif (entry.hour > 22) | (entry.hour <= 4):\n",
    "        return 'LateNight(10pm-4am)'\n",
    "    else:\n",
    "        return 'None'\n",
    "    \n",
    "filter_trip_data['Hour_of_Day'] =\\\n",
    "    filter_trip_data.pickup_time.apply(convert_time_2_hrday)"
   ]
  },
  {
   "cell_type": "code",
   "execution_count": 17,
   "id": "1927aeb9",
   "metadata": {},
   "outputs": [
    {
     "name": "stderr",
     "output_type": "stream",
     "text": [
      "C:\\Users\\hp ssd\\AppData\\Local\\Temp\\ipykernel_3700\\1784769608.py:17: SettingWithCopyWarning: \n",
      "A value is trying to be set on a copy of a slice from a DataFrame.\n",
      "Try using .loc[row_indexer,col_indexer] = value instead\n",
      "\n",
      "See the caveats in the documentation: https://pandas.pydata.org/pandas-docs/stable/user_guide/indexing.html#returning-a-view-versus-a-copy\n",
      "  filter_trip_data['RatecodeID'] = \\\n"
     ]
    }
   ],
   "source": [
    "def  convert_ratecode(entry):\n",
    "   if entry == 1:\n",
    "      return 'Standard Rate'\n",
    "   elif entry == 2:\n",
    "      return 'JFK'\n",
    "   elif entry == 3:\n",
    "      return 'Newyork'\n",
    "   elif entry == 4:\n",
    "      return 'Nassau'\n",
    "   elif entry == 5:\n",
    "      return 'Negotiated Fare'\n",
    "   elif entry == 6:\n",
    "      return 'Groupride'    \n",
    "   else:\n",
    "      return 'None'\n",
    "    \n",
    "filter_trip_data['RatecodeID'] = \\\n",
    "    filter_trip_data.RatecodeID.apply(convert_ratecode)"
   ]
  },
  {
   "cell_type": "code",
   "execution_count": 18,
   "id": "ca2d2d55",
   "metadata": {},
   "outputs": [
    {
     "name": "stderr",
     "output_type": "stream",
     "text": [
      "C:\\Users\\hp ssd\\AppData\\Local\\Temp\\ipykernel_3700\\2374586973.py:17: SettingWithCopyWarning: \n",
      "A value is trying to be set on a copy of a slice from a DataFrame.\n",
      "Try using .loc[row_indexer,col_indexer] = value instead\n",
      "\n",
      "See the caveats in the documentation: https://pandas.pydata.org/pandas-docs/stable/user_guide/indexing.html#returning-a-view-versus-a-copy\n",
      "  filter_trip_data['payment_type'] = \\\n"
     ]
    }
   ],
   "source": [
    "def  convert_paymenttype(entry):\n",
    "   if entry == 1:\n",
    "      return 'Credit Card'\n",
    "   elif entry == 2:\n",
    "      return 'Cash'\n",
    "   elif entry == 3:\n",
    "      return 'No charge'\n",
    "   elif entry == 4:\n",
    "      return 'Dispute'\n",
    "   elif entry == 5:\n",
    "      return 'Unknown'\n",
    "   elif entry == 6:\n",
    "      return 'Voided trip'    \n",
    "   else:\n",
    "      return 'None'\n",
    "    \n",
    "filter_trip_data['payment_type'] = \\\n",
    "  filter_trip_data.payment_type.apply(convert_paymenttype)"
   ]
  },
  {
   "cell_type": "code",
   "execution_count": 19,
   "id": "42fee6f0",
   "metadata": {},
   "outputs": [
    {
     "data": {
      "text/html": [
       "<div>\n",
       "<style scoped>\n",
       "    .dataframe tbody tr th:only-of-type {\n",
       "        vertical-align: middle;\n",
       "    }\n",
       "\n",
       "    .dataframe tbody tr th {\n",
       "        vertical-align: top;\n",
       "    }\n",
       "\n",
       "    .dataframe thead th {\n",
       "        text-align: right;\n",
       "    }\n",
       "</style>\n",
       "<table border=\"1\" class=\"dataframe\">\n",
       "  <thead>\n",
       "    <tr style=\"text-align: right;\">\n",
       "      <th></th>\n",
       "      <th>VendorID</th>\n",
       "      <th>pickup_time</th>\n",
       "      <th>drop_time</th>\n",
       "      <th>passenger_count</th>\n",
       "      <th>trip_distance</th>\n",
       "      <th>RatecodeID</th>\n",
       "      <th>store_and_fwd_flag</th>\n",
       "      <th>payment_type</th>\n",
       "      <th>fare_amount</th>\n",
       "      <th>extra</th>\n",
       "      <th>...</th>\n",
       "      <th>tip_amount</th>\n",
       "      <th>tolls_amount</th>\n",
       "      <th>improvement_surcharge</th>\n",
       "      <th>total_amount</th>\n",
       "      <th>congestion_surcharge</th>\n",
       "      <th>Pickup_Zone</th>\n",
       "      <th>Drop_Zone</th>\n",
       "      <th>trip_duration(min)</th>\n",
       "      <th>Pickup_Day_Week</th>\n",
       "      <th>Hour_of_Day</th>\n",
       "    </tr>\n",
       "  </thead>\n",
       "  <tbody>\n",
       "    <tr>\n",
       "      <th>0</th>\n",
       "      <td>2</td>\n",
       "      <td>2020-12-01 00:33:40</td>\n",
       "      <td>2020-12-01 01:00:35</td>\n",
       "      <td>1</td>\n",
       "      <td>16.74</td>\n",
       "      <td>JFK</td>\n",
       "      <td>N</td>\n",
       "      <td>Credit Card</td>\n",
       "      <td>52.0</td>\n",
       "      <td>0.0</td>\n",
       "      <td>...</td>\n",
       "      <td>2.5</td>\n",
       "      <td>6.12</td>\n",
       "      <td>0.3</td>\n",
       "      <td>63.92</td>\n",
       "      <td>2.5</td>\n",
       "      <td>JFK Airport</td>\n",
       "      <td>Midtown South</td>\n",
       "      <td>26.92</td>\n",
       "      <td>Tuesday</td>\n",
       "      <td>LateNight(10pm-4am)</td>\n",
       "    </tr>\n",
       "    <tr>\n",
       "      <th>1</th>\n",
       "      <td>2</td>\n",
       "      <td>2020-12-01 11:46:04</td>\n",
       "      <td>2020-12-01 12:18:41</td>\n",
       "      <td>1</td>\n",
       "      <td>17.25</td>\n",
       "      <td>JFK</td>\n",
       "      <td>N</td>\n",
       "      <td>Credit Card</td>\n",
       "      <td>52.0</td>\n",
       "      <td>0.0</td>\n",
       "      <td>...</td>\n",
       "      <td>10.0</td>\n",
       "      <td>6.12</td>\n",
       "      <td>0.3</td>\n",
       "      <td>71.42</td>\n",
       "      <td>2.5</td>\n",
       "      <td>JFK Airport</td>\n",
       "      <td>Midtown South</td>\n",
       "      <td>32.62</td>\n",
       "      <td>Tuesday</td>\n",
       "      <td>Midday(10am-4pm)</td>\n",
       "    </tr>\n",
       "  </tbody>\n",
       "</table>\n",
       "<p>2 rows × 21 columns</p>\n",
       "</div>"
      ],
      "text/plain": [
       "   VendorID         pickup_time           drop_time  passenger_count  \\\n",
       "0         2 2020-12-01 00:33:40 2020-12-01 01:00:35                1   \n",
       "1         2 2020-12-01 11:46:04 2020-12-01 12:18:41                1   \n",
       "\n",
       "   trip_distance RatecodeID store_and_fwd_flag payment_type  fare_amount  \\\n",
       "0          16.74        JFK                  N  Credit Card         52.0   \n",
       "1          17.25        JFK                  N  Credit Card         52.0   \n",
       "\n",
       "   extra  ...  tip_amount  tolls_amount  improvement_surcharge  total_amount  \\\n",
       "0    0.0  ...         2.5          6.12                    0.3         63.92   \n",
       "1    0.0  ...        10.0          6.12                    0.3         71.42   \n",
       "\n",
       "   congestion_surcharge  Pickup_Zone      Drop_Zone trip_duration(min)  \\\n",
       "0                   2.5  JFK Airport  Midtown South              26.92   \n",
       "1                   2.5  JFK Airport  Midtown South              32.62   \n",
       "\n",
       "   Pickup_Day_Week          Hour_of_Day  \n",
       "0          Tuesday  LateNight(10pm-4am)  \n",
       "1          Tuesday     Midday(10am-4pm)  \n",
       "\n",
       "[2 rows x 21 columns]"
      ]
     },
     "execution_count": 19,
     "metadata": {},
     "output_type": "execute_result"
    }
   ],
   "source": [
    "filter_trip_data.head(2)"
   ]
  },
  {
   "cell_type": "markdown",
   "id": "a398978e",
   "metadata": {},
   "source": [
    "# Generating report"
   ]
  },
  {
   "cell_type": "markdown",
   "id": "0894d0ba",
   "metadata": {},
   "source": [
    "##### VendorID Names\n",
    "\n",
    "* 1 ==> Creative Mobile Technologies\n",
    "* 2 ==> VeriFone Inc"
   ]
  },
  {
   "cell_type": "code",
   "execution_count": 20,
   "id": "ef61867c",
   "metadata": {},
   "outputs": [
    {
     "data": {
      "text/plain": [
       "<AxesSubplot:ylabel='VendorID'>"
      ]
     },
     "execution_count": 20,
     "metadata": {},
     "output_type": "execute_result"
    },
    {
     "data": {
      "image/png": "[encoded data removed]",
      "text/plain": [
       "<Figure size 640x480 with 1 Axes>"
      ]
     },
     "metadata": {},
     "output_type": "display_data"
    }
   ],
   "source": [
    "filter_trip_data['VendorID'].value_counts().plot(kind='pie',)"
   ]
  },
  {
   "cell_type": "code",
   "execution_count": 21,
   "id": "1ca594c0",
   "metadata": {},
   "outputs": [],
   "source": [
    "temp_pd = filter_trip_data[filter_trip_data.VendorID == 2][['VendorID',\n",
    "                'Pickup_Day_Week']].groupby('Pickup_Day_Week').count()\n",
    "temp_pd.rename(columns={'VendorID': 'VendorID-2'}, inplace=True)"
   ]
  },
  {
   "cell_type": "code",
   "execution_count": 22,
   "id": "8682e70f",
   "metadata": {},
   "outputs": [],
   "source": [
    "temp_pd1 = filter_trip_data[filter_trip_data.VendorID == 1][['VendorID',\n",
    "                'Pickup_Day_Week']].groupby('Pickup_Day_Week').count()\n",
    "temp_pd1.rename(columns={'VendorID': 'VendorID-1'}, inplace=True)"
   ]
  },
  {
   "cell_type": "code",
   "execution_count": 23,
   "id": "f7a15e51",
   "metadata": {},
   "outputs": [
    {
     "data": {
      "text/plain": [
       "<AxesSubplot:xlabel='Pickup_Day_Week'>"
      ]
     },
     "execution_count": 23,
     "metadata": {},
     "output_type": "execute_result"
    },
    {
     "data": {
      "image/png": "[encoded data removed]",
      "text/plain": [
       "<Figure size 640x480 with 1 Axes>"
      ]
     },
     "metadata": {},
     "output_type": "display_data"
    }
   ],
   "source": [
    "temp_pd_merge = pd.merge(temp_pd, temp_pd1, on=['Pickup_Day_Week'])\n",
    "temp_pd_merge.plot.bar(stacked=False)"
   ]
  },
  {
   "cell_type": "code",
   "execution_count": 24,
   "id": "d29150aa",
   "metadata": {},
   "outputs": [
    {
     "data": {
      "text/plain": [
       "<AxesSubplot:xlabel='Hour_of_Day'>"
      ]
     },
     "execution_count": 24,
     "metadata": {},
     "output_type": "execute_result"
    },
    {
     "data": {
      "image/png": "[encoded data removed]",
      "text/plain": [
       "<Figure size 640x480 with 1 Axes>"
      ]
     },
     "metadata": {},
     "output_type": "display_data"
    }
   ],
   "source": [
    "filter_trip_data[['VendorID','Hour_of_Day']].groupby('Hour_of_Day').\\\n",
    "                                                    count().plot.bar()"
   ]
  },
  {
   "cell_type": "code",
   "execution_count": 25,
   "id": "97341cb9",
   "metadata": {},
   "outputs": [
    {
     "data": {
      "text/plain": [
       "<AxesSubplot:xlabel='payment_type'>"
      ]
     },
     "execution_count": 25,
     "metadata": {},
     "output_type": "execute_result"
    },
    {
     "data": {
      "image/png": "[encoded data removed]",
      "text/plain": [
       "<Figure size 640x480 with 1 Axes>"
      ]
     },
     "metadata": {},
     "output_type": "display_data"
    }
   ],
   "source": [
    "filter_trip_data.groupby('payment_type').agg({'VendorID':'count'}).reset_index().\\\n",
    "   rename(columns={'VendorID':'count_payment_type'}).set_index('payment_type').\\\n",
    "   plot.bar(color='m')"
   ]
  },
  {
   "cell_type": "code",
   "execution_count": 26,
   "id": "89fd69b9",
   "metadata": {},
   "outputs": [
    {
     "data": {
      "text/html": [
       "<div>\n",
       "<style scoped>\n",
       "    .dataframe tbody tr th:only-of-type {\n",
       "        vertical-align: middle;\n",
       "    }\n",
       "\n",
       "    .dataframe tbody tr th {\n",
       "        vertical-align: top;\n",
       "    }\n",
       "\n",
       "    .dataframe thead th {\n",
       "        text-align: right;\n",
       "    }\n",
       "</style>\n",
       "<table border=\"1\" class=\"dataframe\">\n",
       "  <thead>\n",
       "    <tr style=\"text-align: right;\">\n",
       "      <th></th>\n",
       "      <th></th>\n",
       "      <th>trip_distance</th>\n",
       "    </tr>\n",
       "    <tr>\n",
       "      <th>Pickup_Zone</th>\n",
       "      <th>Drop_Zone</th>\n",
       "      <th></th>\n",
       "    </tr>\n",
       "  </thead>\n",
       "  <tbody>\n",
       "    <tr>\n",
       "      <th>Upper East Side South</th>\n",
       "      <th>Upper East Side North</th>\n",
       "      <td>1301.36</td>\n",
       "    </tr>\n",
       "    <tr>\n",
       "      <th>NV</th>\n",
       "      <th>NV</th>\n",
       "      <td>1181.75</td>\n",
       "    </tr>\n",
       "    <tr>\n",
       "      <th>Upper East Side North</th>\n",
       "      <th>Upper East Side South</th>\n",
       "      <td>1098.23</td>\n",
       "    </tr>\n",
       "    <tr>\n",
       "      <th>Midtown Center</th>\n",
       "      <th>Upper East Side North</th>\n",
       "      <td>686.76</td>\n",
       "    </tr>\n",
       "  </tbody>\n",
       "</table>\n",
       "</div>"
      ],
      "text/plain": [
       "                                             trip_distance\n",
       "Pickup_Zone           Drop_Zone                           \n",
       "Upper East Side South Upper East Side North        1301.36\n",
       "NV                    NV                           1181.75\n",
       "Upper East Side North Upper East Side South        1098.23\n",
       "Midtown Center        Upper East Side North         686.76"
      ]
     },
     "execution_count": 26,
     "metadata": {},
     "output_type": "execute_result"
    }
   ],
   "source": [
    "filter_trip_data[['trip_distance','Pickup_Zone','Drop_Zone']].\\\n",
    "                groupby(['Pickup_Zone','Drop_Zone']).\\\n",
    "                agg({'trip_distance': 'sum'}).\\\n",
    "                sort_values(by='trip_distance',ascending=False).head(4)"
   ]
  },
  {
   "cell_type": "code",
   "execution_count": 27,
   "id": "49d6ca4e",
   "metadata": {},
   "outputs": [
    {
     "data": {
      "text/html": [
       "<div>\n",
       "<style scoped>\n",
       "    .dataframe tbody tr th:only-of-type {\n",
       "        vertical-align: middle;\n",
       "    }\n",
       "\n",
       "    .dataframe tbody tr th {\n",
       "        vertical-align: top;\n",
       "    }\n",
       "\n",
       "    .dataframe thead th {\n",
       "        text-align: right;\n",
       "    }\n",
       "</style>\n",
       "<table border=\"1\" class=\"dataframe\">\n",
       "  <thead>\n",
       "    <tr style=\"text-align: right;\">\n",
       "      <th></th>\n",
       "      <th></th>\n",
       "      <th>total_amount</th>\n",
       "    </tr>\n",
       "    <tr>\n",
       "      <th>Pickup_Zone</th>\n",
       "      <th>Drop_Zone</th>\n",
       "      <th></th>\n",
       "    </tr>\n",
       "  </thead>\n",
       "  <tbody>\n",
       "    <tr>\n",
       "      <th>Upper East Side South</th>\n",
       "      <th>Upper East Side North</th>\n",
       "      <td>14285.53</td>\n",
       "    </tr>\n",
       "    <tr>\n",
       "      <th rowspan=\"2\" valign=\"top\">Upper East Side North</th>\n",
       "      <th>Upper East Side South</th>\n",
       "      <td>12724.62</td>\n",
       "    </tr>\n",
       "    <tr>\n",
       "      <th>Upper East Side North</th>\n",
       "      <td>8974.29</td>\n",
       "    </tr>\n",
       "    <tr>\n",
       "      <th>Upper East Side South</th>\n",
       "      <th>Upper East Side South</th>\n",
       "      <td>8094.84</td>\n",
       "    </tr>\n",
       "  </tbody>\n",
       "</table>\n",
       "</div>"
      ],
      "text/plain": [
       "                                             total_amount\n",
       "Pickup_Zone           Drop_Zone                          \n",
       "Upper East Side South Upper East Side North      14285.53\n",
       "Upper East Side North Upper East Side South      12724.62\n",
       "                      Upper East Side North       8974.29\n",
       "Upper East Side South Upper East Side South       8094.84"
      ]
     },
     "execution_count": 27,
     "metadata": {},
     "output_type": "execute_result"
    }
   ],
   "source": [
    "filter_trip_data[['total_amount','Pickup_Zone','Drop_Zone']].\\\n",
    "                groupby(['Pickup_Zone','Drop_Zone']).\\\n",
    "                agg({'total_amount': 'sum'}).\\\n",
    "                sort_values(by='total_amount',ascending=False).head(4)"
   ]
  },
  {
   "cell_type": "code",
   "execution_count": 28,
   "id": "c8e4926d",
   "metadata": {},
   "outputs": [
    {
     "data": {
      "text/html": [
       "<div>\n",
       "<style scoped>\n",
       "    .dataframe tbody tr th:only-of-type {\n",
       "        vertical-align: middle;\n",
       "    }\n",
       "\n",
       "    .dataframe tbody tr th {\n",
       "        vertical-align: top;\n",
       "    }\n",
       "\n",
       "    .dataframe thead th {\n",
       "        text-align: right;\n",
       "    }\n",
       "</style>\n",
       "<table border=\"1\" class=\"dataframe\">\n",
       "  <thead>\n",
       "    <tr style=\"text-align: right;\">\n",
       "      <th></th>\n",
       "      <th></th>\n",
       "      <th>trip_duration(min)</th>\n",
       "    </tr>\n",
       "    <tr>\n",
       "      <th>Pickup_Zone</th>\n",
       "      <th>Drop_Zone</th>\n",
       "      <th></th>\n",
       "    </tr>\n",
       "  </thead>\n",
       "  <tbody>\n",
       "    <tr>\n",
       "      <th>Upper East Side North</th>\n",
       "      <th>Upper East Side South</th>\n",
       "      <td>14059.01</td>\n",
       "    </tr>\n",
       "    <tr>\n",
       "      <th rowspan=\"2\" valign=\"top\">Upper East Side South</th>\n",
       "      <th>Upper East Side North</th>\n",
       "      <td>9893.68</td>\n",
       "    </tr>\n",
       "    <tr>\n",
       "      <th>Upper East Side South</th>\n",
       "      <td>7107.31</td>\n",
       "    </tr>\n",
       "    <tr>\n",
       "      <th>Lenox Hill East</th>\n",
       "      <th>Upper East Side South</th>\n",
       "      <td>6282.54</td>\n",
       "    </tr>\n",
       "  </tbody>\n",
       "</table>\n",
       "</div>"
      ],
      "text/plain": [
       "                                             trip_duration(min)\n",
       "Pickup_Zone           Drop_Zone                                \n",
       "Upper East Side North Upper East Side South            14059.01\n",
       "Upper East Side South Upper East Side North             9893.68\n",
       "                      Upper East Side South             7107.31\n",
       "Lenox Hill East       Upper East Side South             6282.54"
      ]
     },
     "execution_count": 28,
     "metadata": {},
     "output_type": "execute_result"
    }
   ],
   "source": [
    "filter_trip_data[['trip_duration(min)','Pickup_Zone','Drop_Zone']].\\\n",
    "                groupby(['Pickup_Zone','Drop_Zone']).\\\n",
    "                agg({'trip_duration(min)': 'sum'}).\\\n",
    "                sort_values(by='trip_duration(min)',ascending=False).head(4)"
   ]
  },
  {
   "cell_type": "code",
   "execution_count": 29,
   "id": "7707ce5e",
   "metadata": {},
   "outputs": [
    {
     "data": {
      "text/html": [
       "<div>\n",
       "<style scoped>\n",
       "    .dataframe tbody tr th:only-of-type {\n",
       "        vertical-align: middle;\n",
       "    }\n",
       "\n",
       "    .dataframe tbody tr th {\n",
       "        vertical-align: top;\n",
       "    }\n",
       "\n",
       "    .dataframe thead th {\n",
       "        text-align: right;\n",
       "    }\n",
       "</style>\n",
       "<table border=\"1\" class=\"dataframe\">\n",
       "  <thead>\n",
       "    <tr style=\"text-align: right;\">\n",
       "      <th></th>\n",
       "      <th></th>\n",
       "      <th>congestion_surcharge</th>\n",
       "    </tr>\n",
       "    <tr>\n",
       "      <th>Pickup_Zone</th>\n",
       "      <th>Drop_Zone</th>\n",
       "      <th></th>\n",
       "    </tr>\n",
       "  </thead>\n",
       "  <tbody>\n",
       "    <tr>\n",
       "      <th>Upper East Side South</th>\n",
       "      <th>Upper East Side North</th>\n",
       "      <td>3022.5</td>\n",
       "    </tr>\n",
       "    <tr>\n",
       "      <th rowspan=\"2\" valign=\"top\">Upper East Side North</th>\n",
       "      <th>Upper East Side South</th>\n",
       "      <td>2592.5</td>\n",
       "    </tr>\n",
       "    <tr>\n",
       "      <th>Upper East Side North</th>\n",
       "      <td>2237.5</td>\n",
       "    </tr>\n",
       "    <tr>\n",
       "      <th>Upper East Side South</th>\n",
       "      <th>Upper East Side South</th>\n",
       "      <td>1917.5</td>\n",
       "    </tr>\n",
       "  </tbody>\n",
       "</table>\n",
       "</div>"
      ],
      "text/plain": [
       "                                             congestion_surcharge\n",
       "Pickup_Zone           Drop_Zone                                  \n",
       "Upper East Side South Upper East Side North                3022.5\n",
       "Upper East Side North Upper East Side South                2592.5\n",
       "                      Upper East Side North                2237.5\n",
       "Upper East Side South Upper East Side South                1917.5"
      ]
     },
     "execution_count": 29,
     "metadata": {},
     "output_type": "execute_result"
    }
   ],
   "source": [
    "filter_trip_data[['congestion_surcharge','Pickup_Zone','Drop_Zone']].\\\n",
    "                groupby(['Pickup_Zone','Drop_Zone']).\\\n",
    "                agg({'congestion_surcharge': 'sum'}).\\\n",
    "                sort_values(by='congestion_surcharge',ascending=False).head(4)"
   ]
  },
  {
   "cell_type": "code",
   "execution_count": 30,
   "id": "4310fbc3",
   "metadata": {},
   "outputs": [
    {
     "data": {
      "text/html": [
       "<div>\n",
       "<style scoped>\n",
       "    .dataframe tbody tr th:only-of-type {\n",
       "        vertical-align: middle;\n",
       "    }\n",
       "\n",
       "    .dataframe tbody tr th {\n",
       "        vertical-align: top;\n",
       "    }\n",
       "\n",
       "    .dataframe thead th {\n",
       "        text-align: right;\n",
       "    }\n",
       "</style>\n",
       "<table border=\"1\" class=\"dataframe\">\n",
       "  <thead>\n",
       "    <tr style=\"text-align: right;\">\n",
       "      <th></th>\n",
       "      <th></th>\n",
       "      <th>tolls_amount</th>\n",
       "    </tr>\n",
       "    <tr>\n",
       "      <th>Pickup_Zone</th>\n",
       "      <th>Drop_Zone</th>\n",
       "      <th></th>\n",
       "    </tr>\n",
       "  </thead>\n",
       "  <tbody>\n",
       "    <tr>\n",
       "      <th>LaGuardia Airport</th>\n",
       "      <th>Yorkville West</th>\n",
       "      <td>171.36</td>\n",
       "    </tr>\n",
       "    <tr>\n",
       "      <th>NV</th>\n",
       "      <th>NV</th>\n",
       "      <td>167.58</td>\n",
       "    </tr>\n",
       "    <tr>\n",
       "      <th rowspan=\"2\" valign=\"top\">LaGuardia Airport</th>\n",
       "      <th>Clinton East</th>\n",
       "      <td>165.24</td>\n",
       "    </tr>\n",
       "    <tr>\n",
       "      <th>Yorkville East</th>\n",
       "      <td>159.12</td>\n",
       "    </tr>\n",
       "  </tbody>\n",
       "</table>\n",
       "</div>"
      ],
      "text/plain": [
       "                                  tolls_amount\n",
       "Pickup_Zone       Drop_Zone                   \n",
       "LaGuardia Airport Yorkville West        171.36\n",
       "NV                NV                    167.58\n",
       "LaGuardia Airport Clinton East          165.24\n",
       "                  Yorkville East        159.12"
      ]
     },
     "execution_count": 30,
     "metadata": {},
     "output_type": "execute_result"
    }
   ],
   "source": [
    "filter_trip_data[['tolls_amount','Pickup_Zone','Drop_Zone']].\\\n",
    "                groupby(['Pickup_Zone','Drop_Zone']).\\\n",
    "                agg({'tolls_amount': 'sum'}).\\\n",
    "                sort_values(by='tolls_amount',ascending=False).head(4)"
   ]
  },
  {
   "cell_type": "markdown",
   "id": "c1f28039",
   "metadata": {},
   "source": [
    "## Inferences-4\n",
    "\n",
    "* Based on the available data, 'VeriFone Inc' has higher market share than 'Creative Mobile Technogies'\n",
    "\n",
    "* On Tuesday and Wednesday, highest number of trips are made and people have opted 'VeriFone Inc' taxis mostly\n",
    "\n",
    "* During 'Midday(10am-4pm)' highest number of trips are made\n",
    "\n",
    "* Credit card is preferred payment mode followed by cash\n",
    "\n",
    "* Maximum trip distance is made between 'Upper East Side South' and 'Upper East Side North'\n",
    "\n",
    "* Maximum trip amount is paid between 'Upper East Side South' and 'Upper East Side North'\n",
    "\n",
    "* Maximum trip duration is between 'Upper East Side South' and 'Upper East Side North'\n",
    "\n",
    "* As obvious maximum congestion surcharge is paid between 'Upper East Side South' and 'Upper East Side North'\n",
    "\n",
    "* Maximum toll charge is paid between 'LaGuardia Airport' and 'Yorkville West'"
   ]
  }
 ],
 "metadata": {
  "kernelspec": {
   "display_name": "Python 3 (ipykernel)",
   "language": "python",
   "name": "python3"
  },
  "language_info": {
   "codemirror_mode": {
    "name": "ipython",
    "version": 3
   },
   "file_extension": ".py",
   "mimetype": "text/x-python",
   "name": "python",
   "nbconvert_exporter": "python",
   "pygments_lexer": "ipython3",
   "version": "3.9.13"
  }
 },
 "nbformat": 4,
 "nbformat_minor": 5
}
